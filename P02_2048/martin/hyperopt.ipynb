{
 "cells": [
  {
   "cell_type": "code",
   "execution_count": 1,
   "metadata": {},
   "outputs": [],
   "source": [
    "import numpy as np\n",
    "from py_game import Game\n",
    "from montecarlo import MCTS\n",
    "from expectimax import Node\n",
    "from heuristics import Heuristic"
   ]
  },
  {
   "cell_type": "markdown",
   "metadata": {},
   "source": [
    "helper functions"
   ]
  },
  {
   "cell_type": "code",
   "execution_count": 2,
   "metadata": {},
   "outputs": [],
   "source": [
    "def compute_avg_score(ai, num_episodes=10):\n",
    "    game = Game()\n",
    "    totalscore = 0.0\n",
    "    for _ in range(num_episodes):\n",
    "        game.reset()\n",
    "        while not game.game_over:\n",
    "            move = ai(game.get_board())\n",
    "            game.make_move(move)\n",
    "        totalscore += game.get_score()\n",
    "\n",
    "    return totalscore / num_episodes"
   ]
  },
  {
   "cell_type": "code",
   "execution_count": 3,
   "metadata": {},
   "outputs": [],
   "source": [
    "import matplotlib.pyplot as plt\n",
    "\n",
    "def print_hyper(trials):\n",
    "  res = -np.array([x['result']['loss'] for x in trials.trials])\n",
    "  plt.plot(range(0, len(res)), res)\n",
    "  plt.title('Score progression')\n",
    "  plt.ylabel('Score')\n",
    "  plt.xlabel('Iteration')\n",
    "  plt.show()"
   ]
  },
  {
   "cell_type": "markdown",
   "metadata": {},
   "source": [
    "### MCTS"
   ]
  },
  {
   "cell_type": "code",
   "execution_count": 4,
   "metadata": {},
   "outputs": [
    {
     "name": "stdout",
     "output_type": "stream",
     "text": [
      "  9%|▉         | 9/100 [12:26<2:05:50, 82.97s/trial, best loss: -751.2]\n"
     ]
    },
    {
     "ename": "KeyboardInterrupt",
     "evalue": "",
     "output_type": "error",
     "traceback": [
      "\u001b[0;31m---------------------------------------------------------------------------\u001b[0m",
      "\u001b[0;31mKeyboardInterrupt\u001b[0m                         Traceback (most recent call last)",
      "\u001b[1;32m/Users/martinoswald/Library/CloudStorage/OneDrive-ZHAW/Semester_5/modules/AI1/labs_ai/P02_2048/martin/hyperopt.ipynb Cell 6\u001b[0m in \u001b[0;36m<cell line: 25>\u001b[0;34m()\u001b[0m\n\u001b[1;32m     <a href='vscode-notebook-cell:/Users/martinoswald/Library/CloudStorage/OneDrive-ZHAW/Semester_5/modules/AI1/labs_ai/P02_2048/martin/hyperopt.ipynb#W6sZmlsZQ%3D%3D?line=21'>22</a>\u001b[0m trials \u001b[39m=\u001b[39m Trials()\n\u001b[1;32m     <a href='vscode-notebook-cell:/Users/martinoswald/Library/CloudStorage/OneDrive-ZHAW/Semester_5/modules/AI1/labs_ai/P02_2048/martin/hyperopt.ipynb#W6sZmlsZQ%3D%3D?line=23'>24</a>\u001b[0m \u001b[39m# minimize function\u001b[39;00m\n\u001b[0;32m---> <a href='vscode-notebook-cell:/Users/martinoswald/Library/CloudStorage/OneDrive-ZHAW/Semester_5/modules/AI1/labs_ai/P02_2048/martin/hyperopt.ipynb#W6sZmlsZQ%3D%3D?line=24'>25</a>\u001b[0m best_params \u001b[39m=\u001b[39m fmin(\n\u001b[1;32m     <a href='vscode-notebook-cell:/Users/martinoswald/Library/CloudStorage/OneDrive-ZHAW/Semester_5/modules/AI1/labs_ai/P02_2048/martin/hyperopt.ipynb#W6sZmlsZQ%3D%3D?line=25'>26</a>\u001b[0m     fn\u001b[39m=\u001b[39;49mfun,\n\u001b[1;32m     <a href='vscode-notebook-cell:/Users/martinoswald/Library/CloudStorage/OneDrive-ZHAW/Semester_5/modules/AI1/labs_ai/P02_2048/martin/hyperopt.ipynb#W6sZmlsZQ%3D%3D?line=26'>27</a>\u001b[0m     space\u001b[39m=\u001b[39;49mparams_space,\n\u001b[1;32m     <a href='vscode-notebook-cell:/Users/martinoswald/Library/CloudStorage/OneDrive-ZHAW/Semester_5/modules/AI1/labs_ai/P02_2048/martin/hyperopt.ipynb#W6sZmlsZQ%3D%3D?line=27'>28</a>\u001b[0m     algo\u001b[39m=\u001b[39;49manneal\u001b[39m.\u001b[39;49msuggest,\n\u001b[1;32m     <a href='vscode-notebook-cell:/Users/martinoswald/Library/CloudStorage/OneDrive-ZHAW/Semester_5/modules/AI1/labs_ai/P02_2048/martin/hyperopt.ipynb#W6sZmlsZQ%3D%3D?line=28'>29</a>\u001b[0m     trials\u001b[39m=\u001b[39;49mtrials,\n\u001b[1;32m     <a href='vscode-notebook-cell:/Users/martinoswald/Library/CloudStorage/OneDrive-ZHAW/Semester_5/modules/AI1/labs_ai/P02_2048/martin/hyperopt.ipynb#W6sZmlsZQ%3D%3D?line=29'>30</a>\u001b[0m     max_evals\u001b[39m=\u001b[39;49m\u001b[39m100\u001b[39;49m,\n\u001b[1;32m     <a href='vscode-notebook-cell:/Users/martinoswald/Library/CloudStorage/OneDrive-ZHAW/Semester_5/modules/AI1/labs_ai/P02_2048/martin/hyperopt.ipynb#W6sZmlsZQ%3D%3D?line=30'>31</a>\u001b[0m )\n",
      "File \u001b[0;32m/opt/miniconda3/envs/AI/lib/python3.9/site-packages/hyperopt/fmin.py:540\u001b[0m, in \u001b[0;36mfmin\u001b[0;34m(fn, space, algo, max_evals, timeout, loss_threshold, trials, rstate, allow_trials_fmin, pass_expr_memo_ctrl, catch_eval_exceptions, verbose, return_argmin, points_to_evaluate, max_queue_len, show_progressbar, early_stop_fn, trials_save_file)\u001b[0m\n\u001b[1;32m    537\u001b[0m     fn \u001b[39m=\u001b[39m __objective_fmin_wrapper(fn)\n\u001b[1;32m    539\u001b[0m \u001b[39mif\u001b[39;00m allow_trials_fmin \u001b[39mand\u001b[39;00m \u001b[39mhasattr\u001b[39m(trials, \u001b[39m\"\u001b[39m\u001b[39mfmin\u001b[39m\u001b[39m\"\u001b[39m):\n\u001b[0;32m--> 540\u001b[0m     \u001b[39mreturn\u001b[39;00m trials\u001b[39m.\u001b[39;49mfmin(\n\u001b[1;32m    541\u001b[0m         fn,\n\u001b[1;32m    542\u001b[0m         space,\n\u001b[1;32m    543\u001b[0m         algo\u001b[39m=\u001b[39;49malgo,\n\u001b[1;32m    544\u001b[0m         max_evals\u001b[39m=\u001b[39;49mmax_evals,\n\u001b[1;32m    545\u001b[0m         timeout\u001b[39m=\u001b[39;49mtimeout,\n\u001b[1;32m    546\u001b[0m         loss_threshold\u001b[39m=\u001b[39;49mloss_threshold,\n\u001b[1;32m    547\u001b[0m         max_queue_len\u001b[39m=\u001b[39;49mmax_queue_len,\n\u001b[1;32m    548\u001b[0m         rstate\u001b[39m=\u001b[39;49mrstate,\n\u001b[1;32m    549\u001b[0m         pass_expr_memo_ctrl\u001b[39m=\u001b[39;49mpass_expr_memo_ctrl,\n\u001b[1;32m    550\u001b[0m         verbose\u001b[39m=\u001b[39;49mverbose,\n\u001b[1;32m    551\u001b[0m         catch_eval_exceptions\u001b[39m=\u001b[39;49mcatch_eval_exceptions,\n\u001b[1;32m    552\u001b[0m         return_argmin\u001b[39m=\u001b[39;49mreturn_argmin,\n\u001b[1;32m    553\u001b[0m         show_progressbar\u001b[39m=\u001b[39;49mshow_progressbar,\n\u001b[1;32m    554\u001b[0m         early_stop_fn\u001b[39m=\u001b[39;49mearly_stop_fn,\n\u001b[1;32m    555\u001b[0m         trials_save_file\u001b[39m=\u001b[39;49mtrials_save_file,\n\u001b[1;32m    556\u001b[0m     )\n\u001b[1;32m    558\u001b[0m \u001b[39mif\u001b[39;00m trials \u001b[39mis\u001b[39;00m \u001b[39mNone\u001b[39;00m:\n\u001b[1;32m    559\u001b[0m     \u001b[39mif\u001b[39;00m os\u001b[39m.\u001b[39mpath\u001b[39m.\u001b[39mexists(trials_save_file):\n",
      "File \u001b[0;32m/opt/miniconda3/envs/AI/lib/python3.9/site-packages/hyperopt/base.py:671\u001b[0m, in \u001b[0;36mTrials.fmin\u001b[0;34m(self, fn, space, algo, max_evals, timeout, loss_threshold, max_queue_len, rstate, verbose, pass_expr_memo_ctrl, catch_eval_exceptions, return_argmin, show_progressbar, early_stop_fn, trials_save_file)\u001b[0m\n\u001b[1;32m    666\u001b[0m \u001b[39m# -- Stop-gap implementation!\u001b[39;00m\n\u001b[1;32m    667\u001b[0m \u001b[39m#    fmin should have been a Trials method in the first place\u001b[39;00m\n\u001b[1;32m    668\u001b[0m \u001b[39m#    but for now it's still sitting in another file.\u001b[39;00m\n\u001b[1;32m    669\u001b[0m \u001b[39mfrom\u001b[39;00m \u001b[39m.\u001b[39;00m\u001b[39mfmin\u001b[39;00m \u001b[39mimport\u001b[39;00m fmin\n\u001b[0;32m--> 671\u001b[0m \u001b[39mreturn\u001b[39;00m fmin(\n\u001b[1;32m    672\u001b[0m     fn,\n\u001b[1;32m    673\u001b[0m     space,\n\u001b[1;32m    674\u001b[0m     algo\u001b[39m=\u001b[39;49malgo,\n\u001b[1;32m    675\u001b[0m     max_evals\u001b[39m=\u001b[39;49mmax_evals,\n\u001b[1;32m    676\u001b[0m     timeout\u001b[39m=\u001b[39;49mtimeout,\n\u001b[1;32m    677\u001b[0m     loss_threshold\u001b[39m=\u001b[39;49mloss_threshold,\n\u001b[1;32m    678\u001b[0m     trials\u001b[39m=\u001b[39;49m\u001b[39mself\u001b[39;49m,\n\u001b[1;32m    679\u001b[0m     rstate\u001b[39m=\u001b[39;49mrstate,\n\u001b[1;32m    680\u001b[0m     verbose\u001b[39m=\u001b[39;49mverbose,\n\u001b[1;32m    681\u001b[0m     max_queue_len\u001b[39m=\u001b[39;49mmax_queue_len,\n\u001b[1;32m    682\u001b[0m     allow_trials_fmin\u001b[39m=\u001b[39;49m\u001b[39mFalse\u001b[39;49;00m,  \u001b[39m# -- prevent recursion\u001b[39;49;00m\n\u001b[1;32m    683\u001b[0m     pass_expr_memo_ctrl\u001b[39m=\u001b[39;49mpass_expr_memo_ctrl,\n\u001b[1;32m    684\u001b[0m     catch_eval_exceptions\u001b[39m=\u001b[39;49mcatch_eval_exceptions,\n\u001b[1;32m    685\u001b[0m     return_argmin\u001b[39m=\u001b[39;49mreturn_argmin,\n\u001b[1;32m    686\u001b[0m     show_progressbar\u001b[39m=\u001b[39;49mshow_progressbar,\n\u001b[1;32m    687\u001b[0m     early_stop_fn\u001b[39m=\u001b[39;49mearly_stop_fn,\n\u001b[1;32m    688\u001b[0m     trials_save_file\u001b[39m=\u001b[39;49mtrials_save_file,\n\u001b[1;32m    689\u001b[0m )\n",
      "File \u001b[0;32m/opt/miniconda3/envs/AI/lib/python3.9/site-packages/hyperopt/fmin.py:586\u001b[0m, in \u001b[0;36mfmin\u001b[0;34m(fn, space, algo, max_evals, timeout, loss_threshold, trials, rstate, allow_trials_fmin, pass_expr_memo_ctrl, catch_eval_exceptions, verbose, return_argmin, points_to_evaluate, max_queue_len, show_progressbar, early_stop_fn, trials_save_file)\u001b[0m\n\u001b[1;32m    583\u001b[0m rval\u001b[39m.\u001b[39mcatch_eval_exceptions \u001b[39m=\u001b[39m catch_eval_exceptions\n\u001b[1;32m    585\u001b[0m \u001b[39m# next line is where the fmin is actually executed\u001b[39;00m\n\u001b[0;32m--> 586\u001b[0m rval\u001b[39m.\u001b[39;49mexhaust()\n\u001b[1;32m    588\u001b[0m \u001b[39mif\u001b[39;00m return_argmin:\n\u001b[1;32m    589\u001b[0m     \u001b[39mif\u001b[39;00m \u001b[39mlen\u001b[39m(trials\u001b[39m.\u001b[39mtrials) \u001b[39m==\u001b[39m \u001b[39m0\u001b[39m:\n",
      "File \u001b[0;32m/opt/miniconda3/envs/AI/lib/python3.9/site-packages/hyperopt/fmin.py:364\u001b[0m, in \u001b[0;36mFMinIter.exhaust\u001b[0;34m(self)\u001b[0m\n\u001b[1;32m    362\u001b[0m \u001b[39mdef\u001b[39;00m \u001b[39mexhaust\u001b[39m(\u001b[39mself\u001b[39m):\n\u001b[1;32m    363\u001b[0m     n_done \u001b[39m=\u001b[39m \u001b[39mlen\u001b[39m(\u001b[39mself\u001b[39m\u001b[39m.\u001b[39mtrials)\n\u001b[0;32m--> 364\u001b[0m     \u001b[39mself\u001b[39;49m\u001b[39m.\u001b[39;49mrun(\u001b[39mself\u001b[39;49m\u001b[39m.\u001b[39;49mmax_evals \u001b[39m-\u001b[39;49m n_done, block_until_done\u001b[39m=\u001b[39;49m\u001b[39mself\u001b[39;49m\u001b[39m.\u001b[39;49masynchronous)\n\u001b[1;32m    365\u001b[0m     \u001b[39mself\u001b[39m\u001b[39m.\u001b[39mtrials\u001b[39m.\u001b[39mrefresh()\n\u001b[1;32m    366\u001b[0m     \u001b[39mreturn\u001b[39;00m \u001b[39mself\u001b[39m\n",
      "File \u001b[0;32m/opt/miniconda3/envs/AI/lib/python3.9/site-packages/hyperopt/fmin.py:300\u001b[0m, in \u001b[0;36mFMinIter.run\u001b[0;34m(self, N, block_until_done)\u001b[0m\n\u001b[1;32m    297\u001b[0m     time\u001b[39m.\u001b[39msleep(\u001b[39mself\u001b[39m\u001b[39m.\u001b[39mpoll_interval_secs)\n\u001b[1;32m    298\u001b[0m \u001b[39melse\u001b[39;00m:\n\u001b[1;32m    299\u001b[0m     \u001b[39m# -- loop over trials and do the jobs directly\u001b[39;00m\n\u001b[0;32m--> 300\u001b[0m     \u001b[39mself\u001b[39;49m\u001b[39m.\u001b[39;49mserial_evaluate()\n\u001b[1;32m    302\u001b[0m \u001b[39mself\u001b[39m\u001b[39m.\u001b[39mtrials\u001b[39m.\u001b[39mrefresh()\n\u001b[1;32m    303\u001b[0m \u001b[39mif\u001b[39;00m \u001b[39mself\u001b[39m\u001b[39m.\u001b[39mtrials_save_file \u001b[39m!=\u001b[39m \u001b[39m\"\u001b[39m\u001b[39m\"\u001b[39m:\n",
      "File \u001b[0;32m/opt/miniconda3/envs/AI/lib/python3.9/site-packages/hyperopt/fmin.py:178\u001b[0m, in \u001b[0;36mFMinIter.serial_evaluate\u001b[0;34m(self, N)\u001b[0m\n\u001b[1;32m    176\u001b[0m ctrl \u001b[39m=\u001b[39m base\u001b[39m.\u001b[39mCtrl(\u001b[39mself\u001b[39m\u001b[39m.\u001b[39mtrials, current_trial\u001b[39m=\u001b[39mtrial)\n\u001b[1;32m    177\u001b[0m \u001b[39mtry\u001b[39;00m:\n\u001b[0;32m--> 178\u001b[0m     result \u001b[39m=\u001b[39m \u001b[39mself\u001b[39;49m\u001b[39m.\u001b[39;49mdomain\u001b[39m.\u001b[39;49mevaluate(spec, ctrl)\n\u001b[1;32m    179\u001b[0m \u001b[39mexcept\u001b[39;00m \u001b[39mException\u001b[39;00m \u001b[39mas\u001b[39;00m e:\n\u001b[1;32m    180\u001b[0m     logger\u001b[39m.\u001b[39merror(\u001b[39m\"\u001b[39m\u001b[39mjob exception: \u001b[39m\u001b[39m%s\u001b[39;00m\u001b[39m\"\u001b[39m \u001b[39m%\u001b[39m \u001b[39mstr\u001b[39m(e))\n",
      "File \u001b[0;32m/opt/miniconda3/envs/AI/lib/python3.9/site-packages/hyperopt/base.py:892\u001b[0m, in \u001b[0;36mDomain.evaluate\u001b[0;34m(self, config, ctrl, attach_attachments)\u001b[0m\n\u001b[1;32m    883\u001b[0m \u001b[39melse\u001b[39;00m:\n\u001b[1;32m    884\u001b[0m     \u001b[39m# -- the \"work\" of evaluating `config` can be written\u001b[39;00m\n\u001b[1;32m    885\u001b[0m     \u001b[39m#    either into the pyll part (self.expr)\u001b[39;00m\n\u001b[1;32m    886\u001b[0m     \u001b[39m#    or the normal Python part (self.fn)\u001b[39;00m\n\u001b[1;32m    887\u001b[0m     pyll_rval \u001b[39m=\u001b[39m pyll\u001b[39m.\u001b[39mrec_eval(\n\u001b[1;32m    888\u001b[0m         \u001b[39mself\u001b[39m\u001b[39m.\u001b[39mexpr,\n\u001b[1;32m    889\u001b[0m         memo\u001b[39m=\u001b[39mmemo,\n\u001b[1;32m    890\u001b[0m         print_node_on_error\u001b[39m=\u001b[39m\u001b[39mself\u001b[39m\u001b[39m.\u001b[39mrec_eval_print_node_on_error,\n\u001b[1;32m    891\u001b[0m     )\n\u001b[0;32m--> 892\u001b[0m     rval \u001b[39m=\u001b[39m \u001b[39mself\u001b[39;49m\u001b[39m.\u001b[39;49mfn(pyll_rval)\n\u001b[1;32m    894\u001b[0m \u001b[39mif\u001b[39;00m \u001b[39misinstance\u001b[39m(rval, (\u001b[39mfloat\u001b[39m, \u001b[39mint\u001b[39m, np\u001b[39m.\u001b[39mnumber)):\n\u001b[1;32m    895\u001b[0m     dict_rval \u001b[39m=\u001b[39m {\u001b[39m\"\u001b[39m\u001b[39mloss\u001b[39m\u001b[39m\"\u001b[39m: \u001b[39mfloat\u001b[39m(rval), \u001b[39m\"\u001b[39m\u001b[39mstatus\u001b[39m\u001b[39m\"\u001b[39m: STATUS_OK}\n",
      "\u001b[1;32m/Users/martinoswald/Library/CloudStorage/OneDrive-ZHAW/Semester_5/modules/AI1/labs_ai/P02_2048/martin/hyperopt.ipynb Cell 6\u001b[0m in \u001b[0;36mfun\u001b[0;34m(params)\u001b[0m\n\u001b[1;32m     <a href='vscode-notebook-cell:/Users/martinoswald/Library/CloudStorage/OneDrive-ZHAW/Semester_5/modules/AI1/labs_ai/P02_2048/martin/hyperopt.ipynb#W6sZmlsZQ%3D%3D?line=15'>16</a>\u001b[0m heu \u001b[39m=\u001b[39m Heuristic(\u001b[39m*\u001b[39m\u001b[39m*\u001b[39mparams)\n\u001b[1;32m     <a href='vscode-notebook-cell:/Users/martinoswald/Library/CloudStorage/OneDrive-ZHAW/Semester_5/modules/AI1/labs_ai/P02_2048/martin/hyperopt.ipynb#W6sZmlsZQ%3D%3D?line=16'>17</a>\u001b[0m ai \u001b[39m=\u001b[39m \u001b[39mlambda\u001b[39;00m b: MCTS(b, heuristic\u001b[39m=\u001b[39mheu)\u001b[39m.\u001b[39mbest_move(\u001b[39m50\u001b[39m)\n\u001b[0;32m---> <a href='vscode-notebook-cell:/Users/martinoswald/Library/CloudStorage/OneDrive-ZHAW/Semester_5/modules/AI1/labs_ai/P02_2048/martin/hyperopt.ipynb#W6sZmlsZQ%3D%3D?line=17'>18</a>\u001b[0m avg_score \u001b[39m=\u001b[39m compute_avg_score(ai)\n\u001b[1;32m     <a href='vscode-notebook-cell:/Users/martinoswald/Library/CloudStorage/OneDrive-ZHAW/Semester_5/modules/AI1/labs_ai/P02_2048/martin/hyperopt.ipynb#W6sZmlsZQ%3D%3D?line=18'>19</a>\u001b[0m \u001b[39mreturn\u001b[39;00m {\u001b[39m'\u001b[39m\u001b[39mloss\u001b[39m\u001b[39m'\u001b[39m: \u001b[39m-\u001b[39m\u001b[39m1\u001b[39m \u001b[39m*\u001b[39m avg_score, \u001b[39m'\u001b[39m\u001b[39mstatus\u001b[39m\u001b[39m'\u001b[39m: STATUS_OK}\n",
      "\u001b[1;32m/Users/martinoswald/Library/CloudStorage/OneDrive-ZHAW/Semester_5/modules/AI1/labs_ai/P02_2048/martin/hyperopt.ipynb Cell 6\u001b[0m in \u001b[0;36mcompute_avg_score\u001b[0;34m(ai, num_episodes)\u001b[0m\n\u001b[1;32m      <a href='vscode-notebook-cell:/Users/martinoswald/Library/CloudStorage/OneDrive-ZHAW/Semester_5/modules/AI1/labs_ai/P02_2048/martin/hyperopt.ipynb#W6sZmlsZQ%3D%3D?line=4'>5</a>\u001b[0m game\u001b[39m.\u001b[39mreset()\n\u001b[1;32m      <a href='vscode-notebook-cell:/Users/martinoswald/Library/CloudStorage/OneDrive-ZHAW/Semester_5/modules/AI1/labs_ai/P02_2048/martin/hyperopt.ipynb#W6sZmlsZQ%3D%3D?line=5'>6</a>\u001b[0m \u001b[39mwhile\u001b[39;00m \u001b[39mnot\u001b[39;00m game\u001b[39m.\u001b[39mgame_over:\n\u001b[0;32m----> <a href='vscode-notebook-cell:/Users/martinoswald/Library/CloudStorage/OneDrive-ZHAW/Semester_5/modules/AI1/labs_ai/P02_2048/martin/hyperopt.ipynb#W6sZmlsZQ%3D%3D?line=6'>7</a>\u001b[0m     move \u001b[39m=\u001b[39m ai(game\u001b[39m.\u001b[39;49mget_board())\n\u001b[1;32m      <a href='vscode-notebook-cell:/Users/martinoswald/Library/CloudStorage/OneDrive-ZHAW/Semester_5/modules/AI1/labs_ai/P02_2048/martin/hyperopt.ipynb#W6sZmlsZQ%3D%3D?line=7'>8</a>\u001b[0m     game\u001b[39m.\u001b[39mmake_move(move)\n\u001b[1;32m      <a href='vscode-notebook-cell:/Users/martinoswald/Library/CloudStorage/OneDrive-ZHAW/Semester_5/modules/AI1/labs_ai/P02_2048/martin/hyperopt.ipynb#W6sZmlsZQ%3D%3D?line=8'>9</a>\u001b[0m totalscore \u001b[39m+\u001b[39m\u001b[39m=\u001b[39m game\u001b[39m.\u001b[39mget_score()\n",
      "\u001b[1;32m/Users/martinoswald/Library/CloudStorage/OneDrive-ZHAW/Semester_5/modules/AI1/labs_ai/P02_2048/martin/hyperopt.ipynb Cell 6\u001b[0m in \u001b[0;36mfun.<locals>.<lambda>\u001b[0;34m(b)\u001b[0m\n\u001b[1;32m     <a href='vscode-notebook-cell:/Users/martinoswald/Library/CloudStorage/OneDrive-ZHAW/Semester_5/modules/AI1/labs_ai/P02_2048/martin/hyperopt.ipynb#W6sZmlsZQ%3D%3D?line=14'>15</a>\u001b[0m \u001b[39mdef\u001b[39;00m \u001b[39mfun\u001b[39m(params):\n\u001b[1;32m     <a href='vscode-notebook-cell:/Users/martinoswald/Library/CloudStorage/OneDrive-ZHAW/Semester_5/modules/AI1/labs_ai/P02_2048/martin/hyperopt.ipynb#W6sZmlsZQ%3D%3D?line=15'>16</a>\u001b[0m     heu \u001b[39m=\u001b[39m Heuristic(\u001b[39m*\u001b[39m\u001b[39m*\u001b[39mparams)\n\u001b[0;32m---> <a href='vscode-notebook-cell:/Users/martinoswald/Library/CloudStorage/OneDrive-ZHAW/Semester_5/modules/AI1/labs_ai/P02_2048/martin/hyperopt.ipynb#W6sZmlsZQ%3D%3D?line=16'>17</a>\u001b[0m     ai \u001b[39m=\u001b[39m \u001b[39mlambda\u001b[39;00m b: MCTS(b, heuristic\u001b[39m=\u001b[39;49mheu)\u001b[39m.\u001b[39;49mbest_move(\u001b[39m50\u001b[39;49m)\n\u001b[1;32m     <a href='vscode-notebook-cell:/Users/martinoswald/Library/CloudStorage/OneDrive-ZHAW/Semester_5/modules/AI1/labs_ai/P02_2048/martin/hyperopt.ipynb#W6sZmlsZQ%3D%3D?line=17'>18</a>\u001b[0m     avg_score \u001b[39m=\u001b[39m compute_avg_score(ai)\n\u001b[1;32m     <a href='vscode-notebook-cell:/Users/martinoswald/Library/CloudStorage/OneDrive-ZHAW/Semester_5/modules/AI1/labs_ai/P02_2048/martin/hyperopt.ipynb#W6sZmlsZQ%3D%3D?line=18'>19</a>\u001b[0m     \u001b[39mreturn\u001b[39;00m {\u001b[39m'\u001b[39m\u001b[39mloss\u001b[39m\u001b[39m'\u001b[39m: \u001b[39m-\u001b[39m\u001b[39m1\u001b[39m \u001b[39m*\u001b[39m avg_score, \u001b[39m'\u001b[39m\u001b[39mstatus\u001b[39m\u001b[39m'\u001b[39m: STATUS_OK}\n",
      "File \u001b[0;32m~/Library/CloudStorage/OneDrive-ZHAW/Semester_5/modules/AI1/labs_ai/P02_2048/martin/montecarlo.py:70\u001b[0m, in \u001b[0;36mMCTS.best_move\u001b[0;34m(self, simulation_no)\u001b[0m\n\u001b[1;32m     68\u001b[0m \u001b[39mfor\u001b[39;00m _ \u001b[39min\u001b[39;00m \u001b[39mrange\u001b[39m(simulation_no):\n\u001b[1;32m     69\u001b[0m     v \u001b[39m=\u001b[39m \u001b[39mself\u001b[39m\u001b[39m.\u001b[39m__selection__()\n\u001b[0;32m---> 70\u001b[0m     score \u001b[39m=\u001b[39m v\u001b[39m.\u001b[39;49m__play_out__()\n\u001b[1;32m     71\u001b[0m     v\u001b[39m.\u001b[39m__backpropagate__(score)\n\u001b[1;32m     72\u001b[0m \u001b[39mreturn\u001b[39;00m \u001b[39mself\u001b[39m\u001b[39m.\u001b[39m__best_child__(c_param\u001b[39m=\u001b[39m\u001b[39m0.\u001b[39m)\u001b[39m.\u001b[39mparent_move\n",
      "File \u001b[0;32m~/Library/CloudStorage/OneDrive-ZHAW/Semester_5/modules/AI1/labs_ai/P02_2048/martin/montecarlo.py:49\u001b[0m, in \u001b[0;36mMCTS.__play_out__\u001b[0;34m(self)\u001b[0m\n\u001b[1;32m     47\u001b[0m board \u001b[39m=\u001b[39m deepcopy(\u001b[39mself\u001b[39m\u001b[39m.\u001b[39mgame)\n\u001b[1;32m     48\u001b[0m \u001b[39mwhile\u001b[39;00m \u001b[39mnot\u001b[39;00m board\u001b[39m.\u001b[39mgame_over:\n\u001b[0;32m---> 49\u001b[0m     probs \u001b[39m=\u001b[39m \u001b[39mself\u001b[39;49m\u001b[39m.\u001b[39;49m__heurisic\u001b[39m.\u001b[39;49meval(\u001b[39mself\u001b[39;49m\u001b[39m.\u001b[39;49mgame\u001b[39m.\u001b[39;49mget_board())\n\u001b[1;32m     50\u001b[0m     move \u001b[39m=\u001b[39m choices(MOVES, cum_weights\u001b[39m=\u001b[39mprobs, k\u001b[39m=\u001b[39m\u001b[39m1\u001b[39m)[\u001b[39m0\u001b[39m]\n\u001b[1;32m     51\u001b[0m     board\u001b[39m.\u001b[39mmake_move(move)\n",
      "File \u001b[0;32m~/Library/CloudStorage/OneDrive-ZHAW/Semester_5/modules/AI1/labs_ai/P02_2048/martin/heuristics.py:21\u001b[0m, in \u001b[0;36mHeuristic.eval\u001b[0;34m(self, board)\u001b[0m\n\u001b[1;32m     19\u001b[0m \u001b[39mfor\u001b[39;00m m \u001b[39min\u001b[39;00m \u001b[39mrange\u001b[39m(\u001b[39m4\u001b[39m):\n\u001b[1;32m     20\u001b[0m     g \u001b[39m=\u001b[39m Game(board)\n\u001b[0;32m---> 21\u001b[0m     g\u001b[39m.\u001b[39;49mmake_move(m)\n\u001b[1;32m     22\u001b[0m     \u001b[39mif\u001b[39;00m g\u001b[39m.\u001b[39mgame_over:\n\u001b[1;32m     23\u001b[0m         \u001b[39mcontinue\u001b[39;00m\n",
      "File \u001b[0;32m~/Library/CloudStorage/OneDrive-ZHAW/Semester_5/modules/AI1/labs_ai/P02_2048/martin/py_game.py:42\u001b[0m, in \u001b[0;36mGame.make_move\u001b[0;34m(self, move)\u001b[0m\n\u001b[1;32m     39\u001b[0m     \u001b[39mself\u001b[39m\u001b[39m.\u001b[39m__board \u001b[39m=\u001b[39m tmp_board\n\u001b[1;32m     40\u001b[0m     \u001b[39mself\u001b[39m\u001b[39m.\u001b[39m__spawn_random_tile__()\n\u001b[0;32m---> 42\u001b[0m \u001b[39mself\u001b[39;49m\u001b[39m.\u001b[39;49m__check_gameover__()\n",
      "File \u001b[0;32m~/Library/CloudStorage/OneDrive-ZHAW/Semester_5/modules/AI1/labs_ai/P02_2048/martin/py_game.py:91\u001b[0m, in \u001b[0;36mGame.__check_gameover__\u001b[0;34m(self)\u001b[0m\n\u001b[1;32m     89\u001b[0m tmp_board \u001b[39m=\u001b[39m np\u001b[39m.\u001b[39mrot90(\u001b[39mself\u001b[39m\u001b[39m.\u001b[39m__board, move)\n\u001b[1;32m     90\u001b[0m tmp_board \u001b[39m=\u001b[39m \u001b[39mself\u001b[39m\u001b[39m.\u001b[39m__stack__(tmp_board)\n\u001b[0;32m---> 91\u001b[0m tmp_board \u001b[39m=\u001b[39m \u001b[39mself\u001b[39;49m\u001b[39m.\u001b[39;49m__merge__(tmp_board, \u001b[39mFalse\u001b[39;49;00m)\n\u001b[1;32m     92\u001b[0m tmp_board \u001b[39m=\u001b[39m \u001b[39mself\u001b[39m\u001b[39m.\u001b[39m__stack__(tmp_board)\n\u001b[1;32m     93\u001b[0m tmp_board \u001b[39m=\u001b[39m np\u001b[39m.\u001b[39mrot90(tmp_board, \u001b[39m4\u001b[39m\u001b[39m-\u001b[39mmove)\n",
      "File \u001b[0;32m~/Library/CloudStorage/OneDrive-ZHAW/Semester_5/modules/AI1/labs_ai/P02_2048/martin/py_game.py:78\u001b[0m, in \u001b[0;36mGame.__merge__\u001b[0;34m(self, board, add_score)\u001b[0m\n\u001b[1;32m     76\u001b[0m \u001b[39mfor\u001b[39;00m i \u001b[39min\u001b[39;00m \u001b[39mrange\u001b[39m(\u001b[39m4\u001b[39m):\n\u001b[1;32m     77\u001b[0m     \u001b[39mfor\u001b[39;00m j \u001b[39min\u001b[39;00m \u001b[39mrange\u001b[39m(\u001b[39m3\u001b[39m):\n\u001b[0;32m---> 78\u001b[0m         \u001b[39mif\u001b[39;00m tmp_board[i, j] \u001b[39m==\u001b[39m tmp_board[i, j\u001b[39m+\u001b[39m\u001b[39m1\u001b[39m]:\n\u001b[1;32m     79\u001b[0m             tmp_board[i, j\u001b[39m+\u001b[39m\u001b[39m1\u001b[39m] \u001b[39m=\u001b[39m \u001b[39m0\u001b[39m\n\u001b[1;32m     80\u001b[0m             tmp_board[i, j] \u001b[39m=\u001b[39m \u001b[39m2\u001b[39m\u001b[39m*\u001b[39mtmp_board[i, j]\n",
      "\u001b[0;31mKeyboardInterrupt\u001b[0m: "
     ]
    }
   ],
   "source": [
    "from hyperopt import fmin, anneal, hp, Trials, STATUS_OK\n",
    "LO = 0\n",
    "HI = 1000\n",
    "\n",
    "# parameter space\n",
    "params_space = {\n",
    "    'empty_weight': hp.uniform('empty_weight', LO, HI),\n",
    "    'edge_weight': hp.uniform('edge_weight', LO, HI),\n",
    "    'mon_weight': hp.uniform('mon_weight', LO, HI),\n",
    "    'max_weight': hp.uniform('max_weight', LO, HI),\n",
    "    'score_weight': hp.uniform('score_weight', LO, HI)\n",
    "}\n",
    "\n",
    "# function to minimize\n",
    "def fun(params):\n",
    "    heu = Heuristic(**params)\n",
    "    ai = lambda b: MCTS(b, heuristic=heu).best_move(50)\n",
    "    avg_score = compute_avg_score(ai)\n",
    "    return {'loss': -1 * avg_score, 'status': STATUS_OK}\n",
    "\n",
    "# trials will contain logging information\n",
    "trials = Trials()\n",
    "\n",
    "# minimize function\n",
    "best_params = fmin(\n",
    "    fn=fun,\n",
    "    space=params_space,\n",
    "    algo=anneal.suggest,\n",
    "    trials=trials,\n",
    "    max_evals=100,\n",
    ")"
   ]
  },
  {
   "cell_type": "markdown",
   "metadata": {},
   "source": [
    "### Expectimax"
   ]
  },
  {
   "cell_type": "code",
   "execution_count": null,
   "metadata": {},
   "outputs": [],
   "source": [
    "from hyperopt import fmin, anneal, hp, Trials, STATUS_OK\n",
    "LO = 0\n",
    "HI = 1000\n",
    "\n",
    "# parameter space\n",
    "params_space = {\n",
    "    'empty_weight': hp.uniform('empty_weight', LO, HI),\n",
    "    'edge_weight': hp.uniform('edge_weight', LO, HI),\n",
    "    'mon_weight': hp.uniform('mon_weight', LO, HI),\n",
    "    'max_weight': hp.uniform('max_weight', LO, HI),\n",
    "    'score_weight': hp.uniform('score_weight', LO, HI)\n",
    "}\n",
    "\n",
    "# function to minimize\n",
    "def fun(params):\n",
    "    heu = Heuristic(**params)\n",
    "    ai = lambda b: Node(b, 3, heuristic=heu).best_move()\n",
    "    avg_score = compute_avg_score(ai)\n",
    "    return {'loss': -1 * avg_score, 'status': STATUS_OK}\n",
    "\n",
    "# trials will contain logging information\n",
    "trials = Trials()\n",
    "\n",
    "# minimize function\n",
    "best_params = fmin(\n",
    "    fn=fun,\n",
    "    space=params_space,\n",
    "    algo=anneal.suggest,\n",
    "    trials=trials,\n",
    "    max_evals=100,\n",
    ")"
   ]
  }
 ],
 "metadata": {
  "kernelspec": {
   "display_name": "Python 3.9.13 ('AI')",
   "language": "python",
   "name": "python3"
  },
  "language_info": {
   "codemirror_mode": {
    "name": "ipython",
    "version": 3
   },
   "file_extension": ".py",
   "mimetype": "text/x-python",
   "name": "python",
   "nbconvert_exporter": "python",
   "pygments_lexer": "ipython3",
   "version": "3.9.13"
  },
  "orig_nbformat": 4,
  "vscode": {
   "interpreter": {
    "hash": "eae94390c9a07342f4caed4de7d8fee3a3514883bff8bf3c6c32c81b4b44e022"
   }
  }
 },
 "nbformat": 4,
 "nbformat_minor": 2
}
